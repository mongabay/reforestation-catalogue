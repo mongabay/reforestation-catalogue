{
 "cells": [
  {
   "cell_type": "markdown",
   "metadata": {},
   "source": [
    "## Ingesting Data\n",
    "\n",
    "This short notebook ooutlines the steps required to ingest data stored in a Google Sheets doc into the Reforestation Catalogue application. Most steps are automated.\n",
    "\n",
    "### Requirements\n",
    "\n",
    "- `pandas='1.1.4'`\n",
    "- `numpy='1.19.5'`\n",
    "- `json='2.0.9'`\n",
    "\n",
    "### Steps\n",
    "\n",
    "1. In Google Sheets, download the sheet you wish to export as `csv`: `File --> Download --> 'Comma-separated values (.csv, current sheet)'`.\n",
    "2. Move this file to the local `input` folder at `reforestation-catalogue/data/input`.\n",
    "3. Run the code below to parse the csv and update `mongabay-data.json` in the application with the new data.\n",
    "4. Make a PR with thee updated data.\n",
    "\n",
    "### Usage\n",
    "\n",
    "The importCsv function does the following:\n",
    "\n",
    "- Looks inside `/input` folder for `.csv` files. If multiple are present you will be promptd to choose one before continuing iwth the ingestion & update process.\n",
    "- Validates that the expected columns are found. In the case that there are mising columns, the process will fail. If unexpected columns are present in the data, you will be prompted and the process will continue - however these fields will not be recognised insie the application and will not be visible.\n",
    "- Converts column names to slugs as per `./lib/consts/validation_consts.json`\n",
    "- Saves a backup of the previous `mongabay-data.json` file to `/input/mongabay-data-copy.json`.\n",
    "- Overwrites the old `mongabay-data.json` in `public/data/` with new data."
   ]
  },
  {
   "cell_type": "code",
   "execution_count": 1,
   "metadata": {},
   "outputs": [],
   "source": [
    "import project_path\n",
    "from lib import utils"
   ]
  },
  {
   "cell_type": "code",
   "execution_count": 2,
   "metadata": {},
   "outputs": [
    {
     "name": "stdout",
     "output_type": "stream",
     "text": [
      "Backing up old data-json at \"./input/mongabay-data-copy.json\"\n",
      "Saving ingested data to \"../public/data/mongabay-data.json\"\n",
      "Data ingstion successful.\n"
     ]
    },
    {
     "name": "stderr",
     "output_type": "stream",
     "text": [
      "/Users/vizzuality/Workspace/mongabay/reforestation-catalogue/data/lib/utils.py:134: UserWarning: \n",
      "\n",
      "WARNING! Duplicated names found:\n",
      "\n",
      "\tname: 'TreesSisters Reforestation Project, Indonesia'\n",
      "\tid: 68\n",
      "\tname: 'TreesSisters Reforestation Project, Indonesia'\n",
      "\tid: 70\n",
      "\n",
      "  warnings.warn(warn_str)\n"
     ]
    }
   ],
   "source": [
    "## Import csv to /public/data/mongabay-data.json and return the validated json\n",
    "imported_data = utils.importCsv()"
   ]
  },
  {
   "cell_type": "code",
   "execution_count": 3,
   "metadata": {},
   "outputs": [
    {
     "data": {
      "text/plain": [
       "{'addressesKnownThreats': True,\n",
       " 'approach': 'assisted-natural regeneration, enrichment, mangrove restoration, mound plantation, strip plantation',\n",
       " 'comment': None,\n",
       " 'country': 'Bangladesh',\n",
       " 'countryCode': 'BD',\n",
       " 'disclosesSpeciesUsed': True,\n",
       " 'endYear': 2016,\n",
       " 'financialModel': 'Government budget',\n",
       " 'firePrevention': True,\n",
       " 'followUpDisclosed': True,\n",
       " 'forestType': 'Tropical moist forest, Tropical rainforest',\n",
       " 'hasCommunityInvolvement': True,\n",
       " 'hasExplicitLocation': True,\n",
       " 'hasGenderComponent': False,\n",
       " 'hasJustificationForApproach': True,\n",
       " 'hasProjectPartners': True,\n",
       " 'hasPublicReports': True,\n",
       " 'identifyDeforestationDriver': False,\n",
       " 'leadOrganization': 'Government of Bangladesh',\n",
       " 'localSeedlingNurseries': False,\n",
       " 'nameOrgDonor': 'Bangladesh Climate Change Resilient Fund by the Peoples’ Republic of Bangladesh',\n",
       " 'newsArticlesAssociatedWithProject': True,\n",
       " 'organizationType': 'Government',\n",
       " 'partnerName': 'Bangladesh Forest Department, Arannayk Foundation, Bangladesh Forest Research Institute',\n",
       " 'primaryObjectivePurpose': 'increase tree species composition and diversity, livelihood development, promote resilient ecosystems',\n",
       " 'projectName': 'Climate Resilient Participatory Afforestation and Reforestation Project (CRPARP), Bangladesh',\n",
       " 'projectNumber': 1,\n",
       " 'projectOrgUrl': 'https://www.iufro.org/fileadmin/material/science/spps/spdc/FLR_Snapshot/iwc19-flr-snapshots-report-bangladesh.pdf',\n",
       " 'scientificResearchAssociatedWithProject': True,\n",
       " 'sizeOfProjectHa': 40392.0,\n",
       " 'startYear': 2013.0,\n",
       " 'treesPlantedNumber': None,\n",
       " 'typeOfFollowUp': 'monitoring, maintenance',\n",
       " 'usesExoticSpecies': True,\n",
       " 'usesNativeSpecies': True,\n",
       " 'whoIsInvolved': 'academia, government, local community'}"
      ]
     },
     "execution_count": 3,
     "metadata": {},
     "output_type": "execute_result"
    }
   ],
   "source": [
    "## Inspect parsed data\n",
    "imported_data[0]"
   ]
  }
 ],
 "metadata": {
  "kernelspec": {
   "display_name": "Python 3",
   "language": "python",
   "name": "python3"
  },
  "language_info": {
   "codemirror_mode": {
    "name": "ipython",
    "version": 3
   },
   "file_extension": ".py",
   "mimetype": "text/x-python",
   "name": "python",
   "nbconvert_exporter": "python",
   "pygments_lexer": "ipython3",
   "version": "3.6.2"
  }
 },
 "nbformat": 4,
 "nbformat_minor": 2
}
